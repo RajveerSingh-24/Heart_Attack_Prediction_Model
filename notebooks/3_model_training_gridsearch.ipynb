{
 "cells": [
  {
   "cell_type": "code",
   "execution_count": 1,
   "id": "63b03464-7afe-4012-a69b-ed324e4e5d87",
   "metadata": {},
   "outputs": [],
   "source": [
    "# Import Libraries\n",
    "import pandas as pd\n",
    "from sklearn.model_selection import GridSearchCV\n",
    "from sklearn.linear_model import LogisticRegression\n",
    "from sklearn.ensemble import RandomForestClassifier\n",
    "from sklearn.svm import SVC\n",
    "from sklearn.neighbors import KNeighborsClassifier\n",
    "from sklearn.metrics import classification_report, accuracy_score\n",
    "import joblib\n",
    "import os\n",
    "\n",
    "# Suppress warnings\n",
    "import warnings\n",
    "warnings.filterwarnings(\"ignore\")\n"
   ]
  },
  {
   "cell_type": "code",
   "execution_count": 2,
   "id": "5cc7e3c6-c195-4ceb-a2aa-4b79ade95aa4",
   "metadata": {},
   "outputs": [],
   "source": [
    "# Load Preprocessed Data\n",
    "X_train = pd.read_csv(\"X_train.csv\")\n",
    "X_test = pd.read_csv(\"X_test.csv\")\n",
    "y_train = pd.read_csv(\"y_train.csv\").values.ravel()\n",
    "y_test = pd.read_csv(\"y_test.csv\").values.ravel()"
   ]
  },
  {
   "cell_type": "code",
   "execution_count": 3,
   "id": "7dae17c5-b593-4010-be76-a391c097bd98",
   "metadata": {},
   "outputs": [],
   "source": [
    "# Define Models and Param Grids\n",
    "models = [\n",
    "    ('LogisticRegression', LogisticRegression(), {\n",
    "        'C': [0.1, 1, 10],\n",
    "        'solver': ['liblinear']\n",
    "    }),\n",
    "    ('RandomForest', RandomForestClassifier(), {\n",
    "        'n_estimators': [50, 100],\n",
    "        'max_depth': [4, 8, 16]\n",
    "    }),\n",
    "    ('SVM', SVC(probability=True), {\n",
    "        'C': [0.1, 1, 10],\n",
    "        'kernel': ['rbf', 'linear']\n",
    "    }),\n",
    "    ('KNN', KNeighborsClassifier(), {\n",
    "        'n_neighbors': [3, 5, 7]\n",
    "    })\n",
    "]"
   ]
  },
  {
   "cell_type": "code",
   "execution_count": 5,
   "id": "1e90b6d2-de8e-4497-9865-c4761e6370d3",
   "metadata": {},
   "outputs": [
    {
     "name": "stdout",
     "output_type": "stream",
     "text": [
      "Training LogisticRegression...\n",
      "LogisticRegression Accuracy: 0.8696\n",
      "              precision    recall  f1-score   support\n",
      "\n",
      "           0       0.90      0.79      0.84        82\n",
      "           1       0.85      0.93      0.89       102\n",
      "\n",
      "    accuracy                           0.87       184\n",
      "   macro avg       0.88      0.86      0.87       184\n",
      "weighted avg       0.87      0.87      0.87       184\n",
      "\n",
      "Training RandomForest...\n",
      "RandomForest Accuracy: 0.9022\n",
      "              precision    recall  f1-score   support\n",
      "\n",
      "           0       0.91      0.87      0.89        82\n",
      "           1       0.90      0.93      0.91       102\n",
      "\n",
      "    accuracy                           0.90       184\n",
      "   macro avg       0.90      0.90      0.90       184\n",
      "weighted avg       0.90      0.90      0.90       184\n",
      "\n",
      "Training SVM...\n",
      "SVM Accuracy: 0.8913\n",
      "              precision    recall  f1-score   support\n",
      "\n",
      "           0       0.92      0.83      0.87        82\n",
      "           1       0.87      0.94      0.91       102\n",
      "\n",
      "    accuracy                           0.89       184\n",
      "   macro avg       0.90      0.89      0.89       184\n",
      "weighted avg       0.89      0.89      0.89       184\n",
      "\n",
      "Training KNN...\n",
      "KNN Accuracy: 0.8696\n",
      "              precision    recall  f1-score   support\n",
      "\n",
      "           0       0.86      0.84      0.85        82\n",
      "           1       0.88      0.89      0.88       102\n",
      "\n",
      "    accuracy                           0.87       184\n",
      "   macro avg       0.87      0.87      0.87       184\n",
      "weighted avg       0.87      0.87      0.87       184\n",
      "\n"
     ]
    }
   ],
   "source": [
    "# Train & Tune Models Using GridSearchCV\n",
    "best_model = None\n",
    "best_score = 0\n",
    "best_model_name = \"\"\n",
    "results = []\n",
    "\n",
    "for name, model, params in models:\n",
    "    print(f\"Training {name}...\")\n",
    "    grid = GridSearchCV(model, params, cv=5, scoring='accuracy')\n",
    "    grid.fit(X_train, y_train)\n",
    "    \n",
    "    y_pred = grid.predict(X_test)\n",
    "    score = accuracy_score(y_test, y_pred)\n",
    "    print(f\"{name} Accuracy: {score:.4f}\")\n",
    "    print(classification_report(y_test, y_pred))\n",
    "\n",
    "    results.append((name, score, grid.best_params_))\n",
    "    \n",
    "    if score > best_score:\n",
    "        best_score = score\n",
    "        best_model = grid.best_estimator_\n",
    "        best_model_name = name"
   ]
  },
  {
   "cell_type": "code",
   "execution_count": 6,
   "id": "5ac49668-0bcf-4927-a3db-bd0ef3479254",
   "metadata": {},
   "outputs": [
    {
     "name": "stdout",
     "output_type": "stream",
     "text": [
      "Best model (RandomForest) saved with accuracy 0.9022\n"
     ]
    }
   ],
   "source": [
    "# Save Best Model\n",
    "# Ensure directory exists\n",
    "os.makedirs(\"models\", exist_ok=True)\n",
    "\n",
    "joblib.dump(best_model, \"models/best_model.pkl\")\n",
    "print(f\"Best model ({best_model_name}) saved with accuracy {best_score:.4f}\")"
   ]
  },
  {
   "cell_type": "code",
   "execution_count": 8,
   "id": "ca9b7d1b-4a1b-44a3-83b6-e2496d7a7dd0",
   "metadata": {},
   "outputs": [
    {
     "name": "stdout",
     "output_type": "stream",
     "text": [
      "\n",
      " Model Comparison:\n",
      "                Model  Accuracy                           Best Params\n",
      "1        RandomForest  0.902174  {'max_depth': 4, 'n_estimators': 50}\n",
      "2                 SVM  0.891304             {'C': 1, 'kernel': 'rbf'}\n",
      "0  LogisticRegression  0.869565      {'C': 10, 'solver': 'liblinear'}\n",
      "3                 KNN  0.869565                    {'n_neighbors': 5}\n"
     ]
    }
   ],
   "source": [
    "# Print Summary of All Models\n",
    "results_df = pd.DataFrame(results, columns=['Model', 'Accuracy', 'Best Params'])\n",
    "print(\"\\n Model Comparison:\")\n",
    "print(results_df.sort_values(by='Accuracy', ascending=False))"
   ]
  },
  {
   "cell_type": "code",
   "execution_count": null,
   "id": "6f73403d-b44b-4e9d-9161-c393f1697909",
   "metadata": {},
   "outputs": [],
   "source": []
  }
 ],
 "metadata": {
  "kernelspec": {
   "display_name": "Python [conda env:base] *",
   "language": "python",
   "name": "conda-base-py"
  },
  "language_info": {
   "codemirror_mode": {
    "name": "ipython",
    "version": 3
   },
   "file_extension": ".py",
   "mimetype": "text/x-python",
   "name": "python",
   "nbconvert_exporter": "python",
   "pygments_lexer": "ipython3",
   "version": "3.12.7"
  }
 },
 "nbformat": 4,
 "nbformat_minor": 5
}
