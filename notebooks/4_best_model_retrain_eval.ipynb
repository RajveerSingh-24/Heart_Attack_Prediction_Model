{
 "cells": [
  {
   "cell_type": "code",
   "execution_count": 1,
   "id": "95dbbb14-4799-475c-bb8f-01b1ab88ed8c",
   "metadata": {},
   "outputs": [],
   "source": [
    "# Import libraries\n",
    "import pandas as pd\n",
    "import joblib\n",
    "from sklearn.metrics import classification_report, confusion_matrix, accuracy_score"
   ]
  },
  {
   "cell_type": "code",
   "execution_count": 2,
   "id": "0bc10c85-3c3a-46ef-8854-7458d774e160",
   "metadata": {},
   "outputs": [],
   "source": [
    "# Load Preprocessed Data (Full Set)\n",
    "# Combine training and test sets for final training\n",
    "X_train = pd.read_csv(\"X_train.csv\")\n",
    "X_test = pd.read_csv(\"X_test.csv\")\n",
    "y_train = pd.read_csv(\"y_train.csv\")\n",
    "y_test = pd.read_csv(\"y_test.csv\")\n",
    "\n",
    "X_full = pd.concat([X_train, X_test], axis=0)\n",
    "y_full = pd.concat([y_train, y_test], axis=0).values.ravel()"
   ]
  },
  {
   "cell_type": "code",
   "execution_count": 4,
   "id": "6927e869-f74b-4035-9164-c951567b096c",
   "metadata": {},
   "outputs": [
    {
     "name": "stdout",
     "output_type": "stream",
     "text": [
      "Best model loaded.\n"
     ]
    }
   ],
   "source": [
    "# Load best model\n",
    "model = joblib.load(\"models/best_model.pkl\")\n",
    "print(\"Best model loaded.\")"
   ]
  },
  {
   "cell_type": "code",
   "execution_count": 5,
   "id": "7c7a20c8-4790-4a28-87a9-3771c3943905",
   "metadata": {},
   "outputs": [
    {
     "name": "stdout",
     "output_type": "stream",
     "text": [
      "Model retrained on full dataset.\n"
     ]
    }
   ],
   "source": [
    "# Retrain on full data\n",
    "model.fit(X_full, y_full)\n",
    "print(\"Model retrained on full dataset.\")"
   ]
  },
  {
   "cell_type": "code",
   "execution_count": 6,
   "id": "7c215e1f-5d33-493e-b07b-767b098105c6",
   "metadata": {},
   "outputs": [
    {
     "name": "stdout",
     "output_type": "stream",
     "text": [
      "\n",
      "Final Accuracy on Full Data:\n",
      "Accuracy: 0.8867\n",
      "\n",
      "Classification Report:\n",
      "              precision    recall  f1-score   support\n",
      "\n",
      "           0       0.90      0.84      0.87       410\n",
      "           1       0.88      0.92      0.90       508\n",
      "\n",
      "    accuracy                           0.89       918\n",
      "   macro avg       0.89      0.88      0.88       918\n",
      "weighted avg       0.89      0.89      0.89       918\n",
      "\n",
      "Confusion Matrix:\n",
      "[[345  65]\n",
      " [ 39 469]]\n"
     ]
    }
   ],
   "source": [
    "# Final Evaluation\n",
    "y_pred = model.predict(X_full)\n",
    "\n",
    "print(\"\\nFinal Accuracy on Full Data:\")\n",
    "print(f\"Accuracy: {accuracy_score(y_full, y_pred):.4f}\\n\")\n",
    "print(\"Classification Report:\")\n",
    "print(classification_report(y_full, y_pred))\n",
    "print(\"Confusion Matrix:\")\n",
    "print(confusion_matrix(y_full, y_pred))"
   ]
  },
  {
   "cell_type": "code",
   "execution_count": 7,
   "id": "2f3cea4d-3119-48bd-acc0-575295c12c0f",
   "metadata": {},
   "outputs": [
    {
     "name": "stdout",
     "output_type": "stream",
     "text": [
      "Final model re-saved after retraining.\n"
     ]
    }
   ],
   "source": [
    "# Resave Final Model\n",
    "joblib.dump(model, \"models/best_model.pkl\")\n",
    "print(\"Final model re-saved after retraining.\")"
   ]
  }
 ],
 "metadata": {
  "kernelspec": {
   "display_name": "Python [conda env:base] *",
   "language": "python",
   "name": "conda-base-py"
  },
  "language_info": {
   "codemirror_mode": {
    "name": "ipython",
    "version": 3
   },
   "file_extension": ".py",
   "mimetype": "text/x-python",
   "name": "python",
   "nbconvert_exporter": "python",
   "pygments_lexer": "ipython3",
   "version": "3.12.7"
  }
 },
 "nbformat": 4,
 "nbformat_minor": 5
}
